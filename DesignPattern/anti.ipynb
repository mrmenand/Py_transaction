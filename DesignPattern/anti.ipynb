{
 "cells": [
  {
   "cell_type": "markdown",
   "metadata": {},
   "source": [
    "## 反模式 \n",
    "不动行，刚性，脆弱性，粘滞性  \n",
    "反模式是处理重复问题的某些解决方案的后果。 \n",
    "\n",
    "### 软件开发反模式 \n",
    "  - 意大利面条式代码 \n",
    "  - 金锤 \n",
    "  - 熔岩流 \n",
    "  - 复制粘贴编程 \n",
    "  \n",
    "### 软件架构反模式 \n",
    "  - 重新发明轮子\n",
    "  - 供应商套牢 \n",
    "  - 委员会设计 "
   ]
  }
 ],
 "metadata": {
  "kernelspec": {
   "display_name": "Python 3",
   "language": "python",
   "name": "python3"
  },
  "language_info": {
   "codemirror_mode": {
    "name": "ipython",
    "version": 3
   },
   "file_extension": ".py",
   "mimetype": "text/x-python",
   "name": "python",
   "nbconvert_exporter": "python",
   "pygments_lexer": "ipython3",
   "version": "3.6.5"
  }
 },
 "nbformat": 4,
 "nbformat_minor": 2
}
