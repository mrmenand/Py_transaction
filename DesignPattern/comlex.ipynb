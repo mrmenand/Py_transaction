{
 "cells": [
  {
   "cell_type": "markdown",
   "metadata": {},
   "source": [
    "## 复合模式 \n",
    "模型-视图-控制器（MVC）设计模式  \n",
    "复合模式将两个或更多模式组合解决常见或普遍性的解决问题 \n",
    "- 模型 ： 提供数据和业务逻辑（如何储存和查询信息） \n",
    "- 视图 ： 负责数据的展示\n",
    "- 控制器 ：连接模型和视图　\n",
    "\n",
    "MVC模式的主要意图：\n",
    "- 将数据和数据的展示隔离开来  \n",
    "- 使类的维护和实现更加简单  \n",
    "- 灵活地改变数据的存储和显示方法 \n"
   ]
  },
  {
   "cell_type": "code",
   "execution_count": 2,
   "metadata": {},
   "outputs": [
    {
     "name": "stdout",
     "output_type": "stream",
     "text": [
      "Services Provided : \n",
      "email  \n",
      "sms  \n",
      "voice  \n",
      "Pricing fro Services : \n",
      "For 1000 email message you pay 2\n",
      "For 1000 sms message you pay 10\n",
      "For 1000 voice message you pay 20\n"
     ]
    }
   ],
   "source": [
    "class Model:\n",
    "    services = {\n",
    "        \"email\": {\"number\": 1000, \"prices\": 2},\n",
    "        \"sms\": {\"number\": 1000, \"prices\": 10},\n",
    "        \"voice\": {\"number\": 1000, \"prices\": 20},\n",
    "    }\n",
    "\n",
    "\n",
    "class View:\n",
    "    def list_serivers(self, services):\n",
    "        for svc in services:\n",
    "            print(svc, \" \")\n",
    "\n",
    "    def list_pricing(self, services):\n",
    "        for svc in services:\n",
    "            print(\"For\", Model.services[svc][\"number\"],\n",
    "                  svc, \"message you pay\", Model.services[svc][\"prices\"])\n",
    "\n",
    "class Controller:\n",
    "    def __init__(self):\n",
    "        self.model = Model()\n",
    "        self.view = View()\n",
    "\n",
    "    def get_services(self):\n",
    "        services = self.model.services.keys()\n",
    "        return self.view.list_serivers(services)\n",
    "\n",
    "    def get_pricin(self):\n",
    "        services = self.model.services.keys()\n",
    "        return self.view.list_pricing(services)\n",
    "\n",
    "class Client:\n",
    "    controller = Controller()\n",
    "    print(\"Services Provided : \")\n",
    "    controller.get_services()\n",
    "    print(\"Pricing fro Services : \")\n",
    "    controller.get_pricin()\n",
    "\n",
    "\n",
    "client = Client()\n"
   ]
  },
  {
   "cell_type": "code",
   "execution_count": null,
   "metadata": {},
   "outputs": [],
   "source": []
  }
 ],
 "metadata": {
  "kernelspec": {
   "display_name": "Python 3",
   "language": "python",
   "name": "python3"
  },
  "language_info": {
   "codemirror_mode": {
    "name": "ipython",
    "version": 3
   },
   "file_extension": ".py",
   "mimetype": "text/x-python",
   "name": "python",
   "nbconvert_exporter": "python",
   "pygments_lexer": "ipython3",
   "version": "3.6.5"
  }
 },
 "nbformat": 4,
 "nbformat_minor": 2
}
