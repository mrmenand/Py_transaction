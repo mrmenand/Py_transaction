{
 "cells": [
  {
   "cell_type": "markdown",
   "metadata": {},
   "source": [
    "## 工厂模式 \n",
    "“工厂”表示一个负责创建其他类型对象的类。 \n",
    "只需要知道需要传递的接口、方法和参数，就能够创建所需类型的对象  \n",
    "- 简单的工厂模式：根据客户端传入的参数类型来创建相应的实例。\n",
    "- 工厂方法模式：定义一个接口来实现来创建对象，但对象的创建却是交由子类来完成的。 \n",
    "- 抽象工厂模式 ：提供一个接口，创建一系列的相关对象。\n"
   ]
  },
  {
   "cell_type": "code",
   "execution_count": 2,
   "metadata": {},
   "outputs": [
    {
     "name": "stdout",
     "output_type": "stream",
     "text": [
      "Dog Dog go go \n"
     ]
    }
   ],
   "source": [
    "# 简单工厂模式 \n",
    "from abc import ABCMeta, abstractmethod\n",
    "\n",
    "class Animal(metaclass=ABCMeta):\n",
    "    @abstractmethod\n",
    "    def do_say(self):\n",
    "        pass\n",
    "\n",
    "\n",
    "class Dog(Animal):\n",
    "    def do_say(self):\n",
    "        print(\"Dog Dog go go \")\n",
    "\n",
    "\n",
    "class Cat(Animal):\n",
    "    def do_say(self):\n",
    "        print(\"Cat Cat meow meow \")\n",
    "\n",
    "\n",
    "class Factory:\n",
    "    def make_sound(self, object_type):\n",
    "        return eval(object_type)().do_say()\n",
    "\n",
    "\n",
    "fac = Factory()\n",
    "fac.make_sound(\"Dog\")\n"
   ]
  },
  {
   "cell_type": "markdown",
   "metadata": {},
   "source": [
    "## 工厂方法模式 \n",
    "- 定义一个接口来创建对象(本身不负责)，子类决定要实例化那些类 \n",
    "- Factory方法的创建是通过继承而不是通过实例化来完整的 "
   ]
  },
  {
   "cell_type": "code",
   "execution_count": 4,
   "metadata": {},
   "outputs": [
    {
     "name": "stdout",
     "output_type": "stream",
     "text": [
      "Creating Profile.. {'sections': [<__main__.PersonalSection object at 0x0000000004E34198>, <__main__.AlbumSection object at 0x0000000004E3BF60>]}\n"
     ]
    }
   ],
   "source": [
    "# 工厂方法模式 \n",
    "# //TODO 有个BUG \n",
    "\n",
    "from abc import ABCMeta, abstractmethod\n",
    "\n",
    "\n",
    "class Section(metaclass=ABCMeta):\n",
    "    @abstractmethod\n",
    "    def describe(self):\n",
    "        pass\n",
    "\n",
    "\n",
    "class PersonalSection(Section):\n",
    "    def describe(self):\n",
    "        print(\"Personal Section\")\n",
    "\n",
    "\n",
    "class AlbumSection(Section):\n",
    "    def describe(self):\n",
    "        print(\"Album Section\")\n",
    "\n",
    "\n",
    "class PatentSection(Section):\n",
    "    def describe(self):\n",
    "        print(\"Patent Section\")\n",
    "\n",
    "\n",
    "class PublicationSection(Section):\n",
    "    def describe(self):\n",
    "        print(\"Publication Section\")\n",
    "\n",
    "\n",
    "class Profile(metaclass=ABCMeta):\n",
    "    def __init__(self):\n",
    "        self.sections = []\n",
    "        self.createProfile()\n",
    "\n",
    "    @abstractmethod\n",
    "    def createProfile(self):\n",
    "        pass\n",
    "\n",
    "    def getSections(self):\n",
    "        return self.sections\n",
    "\n",
    "    def addSections(self, section):\n",
    "        self.sections.append(section)\n",
    "\n",
    "\n",
    "class LinkedIn(Profile):\n",
    "    def createProfile(self):\n",
    "        self.addSections(PersonalSection())\n",
    "        self.addSections(PatentSection())\n",
    "        self.addSections(PublicationSection())\n",
    "\n",
    "\n",
    "class FaceBook(Profile):\n",
    "    def createProfile(self):\n",
    "        self.addSections(PersonalSection())\n",
    "        self.addSections(AlbumSection())\n",
    "\n",
    "\n",
    "profile = FaceBook()\n",
    "\n",
    "print(\"Creating Profile..\",profile.__dict__)\n",
    "\n"
   ]
  },
  {
   "cell_type": "markdown",
   "metadata": {},
   "source": [
    "## 抽象工厂模式   \n",
    "工厂方法将创建实例的任务委托给子类， \n",
    "而抽象工厂模型提供一个接口创建一系列的相关对象 。 \n",
    "- 一个产品/一个系列的的多个对象 \n"
   ]
  },
  {
   "cell_type": "code",
   "execution_count": 5,
   "metadata": {},
   "outputs": [
    {
     "name": "stdout",
     "output_type": "stream",
     "text": [
      "Prepare  DeluxVeggiePizza\n",
      "ChickenPizza  is served Chicken on \n",
      "Prepare  MexicanPizza\n",
      "HamPizza  is served Ham on \n"
     ]
    }
   ],
   "source": [
    "from abc import ABCMeta, abstractmethod\n",
    "\n",
    "\n",
    "class PizzaFactory(metaclass=ABCMeta):\n",
    "    @abstractmethod\n",
    "    def createVegPizza(self):\n",
    "        pass\n",
    "\n",
    "    @abstractmethod\n",
    "    def createNonVegPizza(self):\n",
    "        pass\n",
    "\n",
    "\n",
    "class IndianPizzaFactory(PizzaFactory):\n",
    "    def createNonVegPizza(self):\n",
    "        return ChickenPizza()\n",
    "\n",
    "    def createVegPizza(self):\n",
    "        return DeluxVeggiePizza()\n",
    "\n",
    "\n",
    "class USPizzaFactory(PizzaFactory):\n",
    "    def createNonVegPizza(self):\n",
    "        return HamPizza()\n",
    "\n",
    "    def createVegPizza(self):\n",
    "        return MexicanPizza()\n",
    "\n",
    "\n",
    "class VegPizza(metaclass=ABCMeta):\n",
    "    @abstractmethod\n",
    "    def prepare(self, VegPizza):\n",
    "        pass\n",
    "\n",
    "\n",
    "class NoVegPizza(metaclass=ABCMeta):\n",
    "    @abstractmethod\n",
    "    def serve(self, VegPizza):\n",
    "        pass\n",
    "\n",
    "\n",
    "class DeluxVeggiePizza(VegPizza):\n",
    "    def prepare(self):\n",
    "        print(\"Prepare \", type(self).__name__)\n",
    "\n",
    "\n",
    "class ChickenPizza(NoVegPizza):\n",
    "    def serve(self, VegPizza):\n",
    "        print(type(self).__name__, \" is served Chicken on \")\n",
    "\n",
    "\n",
    "class HamPizza(NoVegPizza):\n",
    "    def serve(self, VegPizza):\n",
    "        print(type(self).__name__, \" is served Ham on \")\n",
    "\n",
    "\n",
    "class MexicanPizza(VegPizza):\n",
    "    def prepare(self):\n",
    "        print(\"Prepare \", type(self).__name__)\n",
    "\n",
    "\n",
    "class PizzaStore:\n",
    "    def __init__(self):\n",
    "        pass\n",
    "\n",
    "    def makePizzas(self):\n",
    "        for factory in [IndianPizzaFactory(), USPizzaFactory()]:\n",
    "            self.factory = factory\n",
    "            self.NonVegPizza = self.factory.createNonVegPizza()\n",
    "            self.VegPizza = self.factory.createVegPizza()\n",
    "            self.VegPizza.prepare()\n",
    "            self.NonVegPizza.serve(self.VegPizza)\n",
    "\n",
    "\n",
    "pizza = PizzaStore()\n",
    "pizza.makePizzas()\n"
   ]
  }
 ],
 "metadata": {
  "kernelspec": {
   "display_name": "Python 3",
   "language": "python",
   "name": "python3"
  },
  "language_info": {
   "codemirror_mode": {
    "name": "ipython",
    "version": 3
   },
   "file_extension": ".py",
   "mimetype": "text/x-python",
   "name": "python",
   "nbconvert_exporter": "python",
   "pygments_lexer": "ipython3",
   "version": "3.6.5"
  }
 },
 "nbformat": 4,
 "nbformat_minor": 2
}
