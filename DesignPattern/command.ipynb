{
 "cells": [
  {
   "cell_type": "markdown",
   "metadata": {},
   "source": [
    "## 命令模式 \n",
    "封装在完成一项操作时或触发一个事件时所需的全部信息 。 \n",
    "意图 ：\n",
    "- 将请求封装为对象 \n",
    "- 可用不同的请求对客户进行参数化 \n",
    "- 允许将请求保存在队列中 \n",
    "- 提供面向对象的回调  \n",
    "\n",
    "应用场景 ：\n",
    "- 根据需要执行的操作的对象进行参数化 \n",
    "- 将操作添加到队列并在不同地点执行请求 \n",
    "- 创建一个结构来根据较小的操作来完成操作  \n",
    "\n",
    "\n",
    "\n"
   ]
  },
  {
   "cell_type": "code",
   "execution_count": 2,
   "metadata": {},
   "outputs": [
    {
     "name": "stdout",
     "output_type": "stream",
     "text": [
      "Receiver Action\n"
     ]
    }
   ],
   "source": [
    "from abc import ABCMeta, abstractclassmethod\n",
    "\n",
    "\n",
    "class Command(metaclass=ABCMeta):\n",
    "    def __init__(self, recv):\n",
    "        self.recv = recv\n",
    "\n",
    "    def execute(self):\n",
    "        pass\n",
    "\n",
    "\n",
    "class ConcreteCommand(Command):\n",
    "    def __init__(self, recv):\n",
    "        self.recv = recv\n",
    "\n",
    "    def execute(self):\n",
    "        self.recv.action()\n",
    "\n",
    "\n",
    "class Receiver:\n",
    "    def action(self):\n",
    "        print(\"Receiver Action\")\n",
    "\n",
    "\n",
    "class Invoker:\n",
    "    def command(self, cmd):\n",
    "        self.cmd = cmd\n",
    "\n",
    "    def execute(self):\n",
    "        self.cmd.execute()\n",
    "\n",
    "\n",
    "if __name__ == '__main__':\n",
    "    recv = Receiver()\n",
    "    cmd = ConcreteCommand(recv)\n",
    "    invoker = Invoker()\n",
    "    invoker.command(cmd)\n",
    "    invoker.execute()\n"
   ]
  },
  {
   "cell_type": "code",
   "execution_count": 5,
   "metadata": {},
   "outputs": [
    {
     "name": "stdout",
     "output_type": "stream",
     "text": [
      "You will buy stocks \n",
      "You will sell stocks\n"
     ]
    }
   ],
   "source": [
    "from abc import ABCMeta, abstractmethod\n",
    "\n",
    "\n",
    "class Order(metaclass=ABCMeta):\n",
    "    @abstractmethod\n",
    "    def execute(self):\n",
    "        pass\n",
    "\n",
    "\n",
    "class BuyStockOrder(Order):\n",
    "    def __init__(self, stock):\n",
    "        self.stock = stock\n",
    "\n",
    "    def execute(self):\n",
    "        self.stock.buy()\n",
    "\n",
    "\n",
    "class SellStockOrder(Order):\n",
    "    def __init__(self, stock):\n",
    "        self.stock = stock\n",
    "\n",
    "    def execute(self):\n",
    "        self.stock.sell()\n",
    "\n",
    "\n",
    "class StockTrade:\n",
    "    def buy(self):\n",
    "        print(\"You will buy stocks \")\n",
    "\n",
    "    def sell(self):\n",
    "        print(\"You will sell stocks\")\n",
    "\n",
    "\n",
    "class Agent:\n",
    "    def __init__(self):\n",
    "        self._order_queue = []\n",
    "\n",
    "    def place_order(self, order):\n",
    "        self._order_queue.append(order)\n",
    "        order.execute()\n",
    "\n",
    "\n",
    "if __name__ == '__main__':\n",
    "    stock = StockTrade()\n",
    "    buy_store = BuyStockOrder(stock)\n",
    "    sell_store = SellStockOrder(stock)\n",
    "\n",
    "    agent = Agent()\n",
    "    agent.place_order(buy_store)\n",
    "    agent.place_order(sell_store)\n",
    "\n"
   ]
  },
  {
   "cell_type": "markdown",
   "metadata": {},
   "source": []
  }
 ],
 "metadata": {
  "kernelspec": {
   "display_name": "Python 3",
   "language": "python",
   "name": "python3"
  },
  "language_info": {
   "codemirror_mode": {
    "name": "ipython",
    "version": 3
   },
   "file_extension": ".py",
   "mimetype": "text/x-python",
   "name": "python",
   "nbconvert_exporter": "python",
   "pygments_lexer": "ipython3",
   "version": "3.6.5"
  }
 },
 "nbformat": 4,
 "nbformat_minor": 2
}
