{
 "cells": [
  {
   "cell_type": "markdown",
   "metadata": {},
   "source": [
    "## 代理模式- 控制对象的访问 \n",
    "代理通常就是一个介于寻求方和提供方之间的中介系统。 \n",
    "- Web中，代理服务器在内部评估请求，发送到适当的服务器。 封装请求、保护隐私，并且适合在分布式架构中运行 \n",
    "- 设计模式的上下文中，代理是充当实际对象的类。对象类型是非常多样化的，例如网络连接、内存和文件中的大对象 。  \n",
    "\n",
    "### 代理模式的应用场景 \n",
    "- 简单的方式表示一个复杂的系统 \n",
    "- 提高现有实际对象的安全性 \n",
    "- 为不同服务器上的远对象提供本地接口 \n",
    "- 为消耗大量内存的对象提供一个轻量级的句柄。 \n",
    "\n"
   ]
  },
  {
   "cell_type": "code",
   "execution_count": 1,
   "metadata": {},
   "outputs": [
    {
     "name": "stdout",
     "output_type": "stream",
     "text": [
      "Actor is free for the movie \n"
     ]
    }
   ],
   "source": [
    "class Actor:\n",
    "    def __init__(self):\n",
    "        self.is_busy = False\n",
    "\n",
    "    def occupied(self):\n",
    "        self.is_busy = True\n",
    "        print(type(self).__name__, \"is occupied with current movie\")\n",
    "\n",
    "    def available(self):\n",
    "        self.is_busy = False\n",
    "        print(type(self).__name__, \"is free for the movie \")\n",
    "\n",
    "    def get_status(self):\n",
    "        return self.is_busy\n",
    "\n",
    "\n",
    "class Agent:\n",
    "    def __init__(self):\n",
    "        self.principal = None\n",
    "\n",
    "    def work(self):\n",
    "        self.actor = Actor()\n",
    "        if self.actor.get_status():\n",
    "            self.actor.occupied()\n",
    "        else:\n",
    "            self.actor.available()\n",
    "\n",
    "\n",
    "agent = Agent()\n",
    "agent.work()\n"
   ]
  },
  {
   "cell_type": "markdown",
   "metadata": {},
   "source": [
    "代理设计模式主要完成以下工作：\n",
    "- 它为其他对象提供了一个代理，从而实现了对原始对象的控制访问 \n",
    "- 它可以用作一个层或者接口，支持分布式访问 \n",
    "- 通过增加代理，保护真正的组件不受意外的影响 \n",
    "\n"
   ]
  },
  {
   "cell_type": "markdown",
   "metadata": {},
   "source": [
    "## 不同类型的代理 \n",
    "- 虚拟代理：对象实例化后会占用大量内存，可以先利用占位符来表示 \n",
    "- 远程代理：位于远程服务器或不同地址空间上的实际对象提供一个本地表示 \n",
    "- 保护代理：代理对象会检查调用者是否具有转发请求所需的访问权限 \n",
    "- 智能代理：在访问对象时插入其他操作，在访问之前检查实际对象是否被锁定。   \n"
   ]
  },
  {
   "cell_type": "code",
   "execution_count": 3,
   "metadata": {},
   "outputs": [
    {
     "name": "stdout",
     "output_type": "stream",
     "text": [
      "You: lets buy the denim shirt\n",
      "You : Denim shirt is Mine : - \n",
      "Proxy::Punch in Card Number : 3275\n",
      "Bank:: Checking if Account 3275 has enough funds\n",
      "Bank :: Paying the merchant \n"
     ]
    }
   ],
   "source": [
    "from abc import ABCMeta, abstractmethod\n",
    "\n",
    "\n",
    "class You:\n",
    "    def __init__(self):\n",
    "        print(\"You: lets buy the denim shirt\")\n",
    "        self.debit_card = DebitCard()\n",
    "        self.is_purchased = None\n",
    "\n",
    "    def make_payment(self):\n",
    "        self.is_purchased = self.debit_card.do_pay()\n",
    "\n",
    "    def __del__(self):\n",
    "        if self.is_purchased:\n",
    "            print(\"You : Denim shirt is Mine : - \")\n",
    "        else:\n",
    "            print(\"You : I should earn more \")\n",
    "\n",
    "\n",
    "class Payment(metaclass=ABCMeta):\n",
    "    @abstractmethod\n",
    "    def do_pay(self):\n",
    "        pass\n",
    "\n",
    "\n",
    "class Bank(Payment):\n",
    "\n",
    "    def __init__(self):\n",
    "        self.card = None\n",
    "        self.account = None\n",
    "\n",
    "    def _get_account(self):\n",
    "        self.account = self.card\n",
    "        return self.account\n",
    "\n",
    "    def _has_funds(self):\n",
    "        print(\"Bank:: Checking if Account\", self._get_account(), \"has enough funds\")\n",
    "        return True\n",
    "\n",
    "    def set_card(self, card):\n",
    "        self.card = card\n",
    "\n",
    "    def do_pay(self):\n",
    "        if self._has_funds():\n",
    "            print(\"Bank :: Paying the merchant \")\n",
    "            return True\n",
    "        else:\n",
    "            print(\"Bank :: Sorry, not enough funds \")\n",
    "            return False\n",
    "\n",
    "\n",
    "class DebitCard(Payment):\n",
    "    def __init__(self):\n",
    "        self.bank = Bank()\n",
    "\n",
    "    def do_pay(self):\n",
    "        card = input(\"Proxy::Punch in Card Number : \")\n",
    "        self.bank.set_card(card)\n",
    "        return self.bank.do_pay()\n",
    "\n",
    "\n",
    "you = You()\n",
    "you.make_payment()\n"
   ]
  },
  {
   "cell_type": "markdown",
   "metadata": {},
   "source": [
    "装饰器向在被运行时装饰的对象添加"
   ]
  }
 ],
 "metadata": {
  "kernelspec": {
   "display_name": "Python 3",
   "language": "python",
   "name": "python3"
  },
  "language_info": {
   "codemirror_mode": {
    "name": "ipython",
    "version": 3
   },
   "file_extension": ".py",
   "mimetype": "text/x-python",
   "name": "python",
   "nbconvert_exporter": "python",
   "pygments_lexer": "ipython3",
   "version": "3.6.5"
  }
 },
 "nbformat": 4,
 "nbformat_minor": 2
}
