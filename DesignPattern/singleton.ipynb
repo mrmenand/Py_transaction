{
 "cells": [
  {
   "cell_type": "code",
   "execution_count": null,
   "metadata": {},
   "outputs": [],
   "source": [
    "## 单例模式 \n",
    "机制：只能生成一个实例，以避免对同一资源产生相互冲突的请求\n",
    "- 确保类有且只有一个对象被创建。\n",
    "- 为对象提供一个访问点，以使程序可以全局访问该对象。\n",
    "- 控制共享资源的并行访问。"
   ]
  },
  {
   "cell_type": "code",
   "execution_count": 3,
   "metadata": {},
   "outputs": [
    {
     "name": "stdout",
     "output_type": "stream",
     "text": [
      "<__main__.Singleton object at 0x00000000049FB550> <__main__.Singleton object at 0x00000000049FB550>\n",
      "id is equal:  True\n"
     ]
    }
   ],
   "source": [
    "# 经典模式\n",
    "class Singleton:\n",
    "    def __new__(cls, *args, **kwargs):\n",
    "        if not hasattr(cls, \"instance\"):\n",
    "            cls.instance = super(Singleton, cls).__new__(cls)\n",
    "\n",
    "        return cls.instance\n",
    "\n",
    "\n",
    "s1 = Singleton()\n",
    "s2 = Singleton()\n",
    "print(s1, s2)\n",
    "print(\"id is equal: \", id(s1) == id(s2))"
   ]
  },
  {
   "cell_type": "code",
   "execution_count": 6,
   "metadata": {},
   "outputs": [
    {
     "name": "stdout",
     "output_type": "stream",
     "text": [
      "__init__ method called ..\n",
      "__init__ method called ..\n",
      "object crated： <__main__.Singleton object at 0x00000000049FBCF8>\n",
      "Instance already created : <__main__.Singleton object at 0x00000000049FBCF8>\n"
     ]
    }
   ],
   "source": [
    "#  懒汉式实例化  \n",
    "# 一种节约资源并仅在需要的时候才创建它们的方式\n",
    "class Singleton:\n",
    "    _instance = None\n",
    "\n",
    "    def __init__(self):\n",
    "        if not self._instance:\n",
    "            print(\"__init__ method called ..\")\n",
    "        else:\n",
    "            print(\"Instance already created :\", self.getInstance())\n",
    "\n",
    "    @classmethod\n",
    "    def getInstance(cls):\n",
    "        if not cls._instance:\n",
    "            cls._instance = Singleton()\n",
    "\n",
    "        return cls._instance\n",
    "\n",
    "\n",
    "s1 = Singleton()\n",
    "print(\"object crated：\", Singleton.getInstance())\n",
    "s2 = Singleton()\n",
    "\n"
   ]
  },
  {
   "cell_type": "markdown",
   "metadata": {},
   "source": [
    "## 模块级别的单例模式 \n",
    "当模块被导入的时候，它就会被**初始化**。   \n",
    "然而，当同一模块被再次导入的时候，不会再次初始化，返回的同一对象。"
   ]
  },
  {
   "cell_type": "markdown",
   "metadata": {},
   "source": [
    "##  Monostate 单态模式 \n",
    "基于所有的对象共享相同的状态   \n",
    "__dict__存储一个类的所有对象 "
   ]
  },
  {
   "cell_type": "code",
   "execution_count": 7,
   "metadata": {
    "scrolled": true
   },
   "outputs": [
    {
     "name": "stdout",
     "output_type": "stream",
     "text": [
      "<__main__.Borg object at 0x00000000049FBD68> <__main__.Borg object at 0x00000000049FBA90>\n",
      "object state 'b1':  {'1': '2', 'x': 66}\n",
      "object state 'b2':  {'1': '2', 'x': 66}\n"
     ]
    }
   ],
   "source": [
    "class Borg:\n",
    "    _shared_state = {\"1\": \"2\"}\n",
    "\n",
    "    def __init__(self):\n",
    "        self.x = 1\n",
    "        self.__dict__ = self._shared_state\n",
    "        pass\n",
    "\n",
    "\n",
    "b1 = Borg()\n",
    "b2 = Borg()\n",
    "# b1,b2 两个不同的对象，__dict__对象却是相同的\n",
    "b1.x = 6\n",
    "b2.x = 66\n",
    "\n",
    "print(b1, b2)\n",
    "print(\"object state 'b1': \", b1.__dict__)\n",
    "print(\"object state 'b2': \", b2.__dict__)\n"
   ]
  },
  {
   "cell_type": "markdown",
   "metadata": {},
   "source": [
    "__new__ 方法是用来创建对象的实例的。  \n",
    "__init__ 方法是用来对实例的出书化。  \n",
    "通过修改 __new__ 方法本身的实现修改Borg模式 \n"
   ]
  },
  {
   "cell_type": "code",
   "execution_count": 9,
   "metadata": {},
   "outputs": [
    {
     "name": "stdout",
     "output_type": "stream",
     "text": [
      "<__main__.Borg object at 0x00000000049FBAC8> <__main__.Borg object at 0x00000000049FBA58>\n",
      "object state 'b1':  {'x': 55}\n",
      "object state 'b2':  {'x': 55}\n"
     ]
    }
   ],
   "source": [
    "class Borg:\n",
    "    _shared_state = {}\n",
    "\n",
    "    def __new__(cls, *args, **kwargs):\n",
    "        obj = super(Borg, cls).__new__(cls, *args, **kwargs)\n",
    "        obj.__dict__ = cls._shared_state\n",
    "        return obj\n",
    "\n",
    "\n",
    "b1 = Borg()\n",
    "b2 = Borg()\n",
    "# b1,b2 两个不同的对象，__dict__对象却是相同的\n",
    "b1.x = 6\n",
    "b2.x = 55\n",
    "\n",
    "print(b1, b2)\n",
    "print(\"object state 'b1': \", b1.__dict__)\n",
    "print(\"object state 'b2': \", b2.__dict__)\n"
   ]
  },
  {
   "cell_type": "markdown",
   "metadata": {},
   "source": [
    "##  单列和元类 \n",
    "\n",
    "元类是一个类的类，意味着该类是它元类的实例 。\n",
    "\n",
    "所有内置的数据结构都是type类型的类。   \n",
    "\n",
    "类的定义由它的元类决定，所以当我们用类A创建一个类时， \n",
    "Python 通过A=type(name,base,dict)创建  \n",
    "\n",
    "**元类**对类的创建和对象实例化有更多的控制权，所以可以创建单例 。 \n",
    "\n",
    "为了控制类的创建和初始化，元类将覆盖__new__和__init__方法。 \n"
   ]
  },
  {
   "cell_type": "code",
   "execution_count": 12,
   "metadata": {},
   "outputs": [
    {
     "name": "stdout",
     "output_type": "stream",
     "text": [
      "<__main__.Logger object at 0x00000000049E5048> <__main__.Logger object at 0x00000000049E5048>\n"
     ]
    }
   ],
   "source": [
    "class MetaSingleton(type):\n",
    "    _instance = {}\n",
    "\n",
    "    def __call__(cls, *args, **kwargs):\n",
    "        if cls not in cls._instance:\n",
    "            cls._instance[cls] = super(MetaSingleton, cls).__call__(*args, **kwargs)\n",
    "\n",
    "        return cls._instance[cls]\n",
    "\n",
    "\n",
    "class Logger(metaclass=MetaSingleton):\n",
    "    pass\n",
    "\n",
    "\n",
    "logger1 = Logger()\n",
    "logger2 = Logger()\n",
    "print(logger1, logger2)\n"
   ]
  },
  {
   "cell_type": "markdown",
   "metadata": {},
   "source": [
    "##  单例模式的实例 \n",
    "- 对数据库进行多种读取和写入操作的云服务。 \n",
    "    - 完整的云服务被分解为多个服务，每个服务执行不同的操作  \n",
    "    - 操作一致性（多次实例化数据库类，但只创建一个对象，同步的）  \n",
    "    - 优化数据库的各种操作，以提高内存和CPU的利用率 \n",
    " \n",
    "-  监控服务器运行状况 \n",
    "\n",
    "\n",
    "##  单例模式的缺点  \n",
    "单例模式具有全局访问权限 "
   ]
  }
 ],
 "metadata": {
  "kernelspec": {
   "display_name": "Python 3",
   "language": "python",
   "name": "python3"
  },
  "language_info": {
   "codemirror_mode": {
    "name": "ipython",
    "version": 3
   },
   "file_extension": ".py",
   "mimetype": "text/x-python",
   "name": "python",
   "nbconvert_exporter": "python",
   "pygments_lexer": "ipython3",
   "version": "3.6.5"
  }
 },
 "nbformat": 4,
 "nbformat_minor": 2
}
