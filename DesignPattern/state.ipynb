{
 "cells": [
  {
   "cell_type": "markdown",
   "metadata": {},
   "source": [
    "## 状态模式\n",
    "允许对象在其内部状态变化时改变行为  \n"
   ]
  },
  {
   "cell_type": "code",
   "execution_count": 1,
   "metadata": {},
   "outputs": [
    {
     "name": "stdout",
     "output_type": "stream",
     "text": [
      "ConcreteStateA\n"
     ]
    }
   ],
   "source": [
    "from abc import ABCMeta, abstractmethod\n",
    "\n",
    "\n",
    "class State(metaclass=ABCMeta):\n",
    "    @abstractmethod\n",
    "    def handle(self):\n",
    "        pass\n",
    "\n",
    "\n",
    "class ConcreteStateB(State):\n",
    "    def handle(self):\n",
    "        print(\"ConcreteStateB\")\n",
    "\n",
    "\n",
    "class ConcreteStateA(State):\n",
    "    def handle(self):\n",
    "        print(\"ConcreteStateA\")\n",
    "\n",
    "\n",
    "class Context(State):\n",
    "    def __init__(self):\n",
    "        self.state = None\n",
    "\n",
    "    def get_state(self):\n",
    "        return self.state\n",
    "\n",
    "    def set_state(self, state):\n",
    "        self.state = state\n",
    "\n",
    "    def handle(self):\n",
    "        self.state.handle()\n",
    "\n",
    "\n",
    "context = Context()\n",
    "stateA = ConcreteStateA()\n",
    "stateB = ConcreteStateB()\n",
    "context.set_state(stateA)\n",
    "context.handle()\n"
   ]
  },
  {
   "cell_type": "code",
   "execution_count": 3,
   "metadata": {},
   "outputs": [
    {
     "name": "stdout",
     "output_type": "stream",
     "text": [
      "TV Switching OFF ..\n"
     ]
    }
   ],
   "source": [
    "from abc import ABCMeta, abstractmethod\n",
    "\n",
    "\n",
    "class State(metaclass=ABCMeta):\n",
    "    @abstractmethod\n",
    "    def do_this(self):\n",
    "        pass\n",
    "\n",
    "class StartState(State):\n",
    "    def do_this(self):\n",
    "        print(\"TV Switching ON ..\")\n",
    "\n",
    "\n",
    "\n",
    "class StopState(State):\n",
    "    def do_this(self):\n",
    "        print(\"TV Switching OFF ..\")\n",
    "\n",
    "\n",
    "class TVContext(State):\n",
    "    def __init__(self):\n",
    "        self.state = None\n",
    "\n",
    "    def get_state(self):\n",
    "        return self.state\n",
    "\n",
    "    def set_state(self, state):\n",
    "        self.state = state\n",
    "\n",
    "    def do_this(self):\n",
    "        self.state.do_this()\n",
    "\n",
    "\n",
    "context = TVContext()\n",
    "context.get_state()\n",
    "\n",
    "start = StartState()\n",
    "stop = StopState()\n",
    "\n",
    "context.set_state(stop)\n",
    "context.do_this()"
   ]
  },
  {
   "cell_type": "code",
   "execution_count": null,
   "metadata": {},
   "outputs": [],
   "source": []
  }
 ],
 "metadata": {
  "kernelspec": {
   "display_name": "Python 3",
   "language": "python",
   "name": "python3"
  },
  "language_info": {
   "codemirror_mode": {
    "name": "ipython",
    "version": 3
   },
   "file_extension": ".py",
   "mimetype": "text/x-python",
   "name": "python",
   "nbconvert_exporter": "python",
   "pygments_lexer": "ipython3",
   "version": "3.6.5"
  }
 },
 "nbformat": 4,
 "nbformat_minor": 2
}
