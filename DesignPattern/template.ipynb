{
 "cells": [
  {
   "cell_type": "markdown",
   "metadata": {},
   "source": [
    "## 模板方法模式 - 封装算法 \n",
    "- 使用基本操作定义算法的框架 \n",
    "- 重新定义子类的某些操作 \n",
    "- 实现代码重用并避免重复工作 \n",
    "- 利用通用接口或实现  \n"
   ]
  },
  {
   "cell_type": "code",
   "execution_count": 1,
   "metadata": {},
   "outputs": [
    {
     "name": "stdout",
     "output_type": "stream",
     "text": [
      "Collecting \n",
      "Compiling \n",
      "Program running \n"
     ]
    }
   ],
   "source": [
    "from abc import ABCMeta,abstractmethod\n",
    "\n",
    "\n",
    "class Compiler(metaclass=ABCMeta):\n",
    "    @abstractmethod\n",
    "    def collect_source(self):\n",
    "        pass\n",
    "\n",
    "    @abstractmethod\n",
    "    def compile2object(self):\n",
    "        pass\n",
    "\n",
    "    @abstractmethod\n",
    "    def run(self):\n",
    "        pass\n",
    "\n",
    "    def compile_run(self):\n",
    "        self.collect_source()\n",
    "        self.compile2object()\n",
    "        self.run()\n",
    "\n",
    "class HuaweiCompiler(Compiler):\n",
    "    def collect_source(self):\n",
    "        print(\"Collecting \" )\n",
    "\n",
    "    def compile2object(self):\n",
    "        print(\"Compiling \")\n",
    "\n",
    "    def run(self):\n",
    "        print(\"Program running \")\n",
    "\n",
    "\n",
    "huawei = HuaweiCompiler()\n",
    "huawei.compile_run()\n",
    "\n"
   ]
  },
  {
   "cell_type": "code",
   "execution_count": 2,
   "metadata": {},
   "outputs": [
    {
     "name": "stdout",
     "output_type": "stream",
     "text": [
      "xiangxi or changsha:xiangxi\n",
      "Boat !!!! \n",
      "Jiao Fei\n",
      "Kang Zhang \n",
      "XX City\n",
      "Go back OO \n"
     ]
    }
   ],
   "source": [
    "from abc import ABCMeta, abstractmethod\n",
    "\n",
    "\n",
    "class Trip(metaclass=ABCMeta):\n",
    "    @abstractmethod\n",
    "    def set_transport(self):\n",
    "        pass\n",
    "\n",
    "    @abstractmethod\n",
    "    def day1(self):\n",
    "        pass\n",
    "\n",
    "    @abstractmethod\n",
    "    def day2(self):\n",
    "        pass\n",
    "\n",
    "    @abstractmethod\n",
    "    def day3(self):\n",
    "        pass\n",
    "\n",
    "    @abstractmethod\n",
    "    def return_home(self):\n",
    "        pass\n",
    "\n",
    "    def arrange(self):\n",
    "        self.set_transport()\n",
    "        self.day1()\n",
    "        self.day2()\n",
    "        self.day3()\n",
    "        self.return_home()\n",
    "\n",
    "\n",
    "class CSTrip(Trip):\n",
    "    def set_transport(self):\n",
    "        print(\"Train !!!! \")\n",
    "\n",
    "    def day1(self):\n",
    "        print(\"Yue Lu Shang\")\n",
    "\n",
    "    def day2(self):\n",
    "        print(\"Xiang Jiang \")\n",
    "\n",
    "    def day3(self):\n",
    "        print(\"CSC City\")\n",
    "\n",
    "    def return_home(self):\n",
    "        print(\"Go back XX \")\n",
    "\n",
    "\n",
    "class XiangXiTrip(Trip):\n",
    "\n",
    "    def set_transport(self):\n",
    "        print(\"Boat !!!! \")\n",
    "\n",
    "    def day1(self):\n",
    "        print(\"Jiao Fei\")\n",
    "\n",
    "    def day2(self):\n",
    "        print(\"Kang Zhang \")\n",
    "\n",
    "    def day3(self):\n",
    "        print(\"XX City\")\n",
    "\n",
    "    def return_home(self):\n",
    "        print(\"Go back OO \")\n",
    "\n",
    "\n",
    "class TravelAgency:\n",
    "    def arrange_trip(self):\n",
    "        choice = input(\"xiangxi or changsha:\")\n",
    "        if choice == \"xiangxi\":\n",
    "            self.trip = XiangXiTrip()\n",
    "            self.trip.arrange()\n",
    "        if choice == \"changsha\":\n",
    "            self.trip = CSTrip()\n",
    "            self.trip.arrange()\n",
    "\n",
    "\n",
    "TravelAgency().arrange_trip()\n"
   ]
  },
  {
   "cell_type": "markdown",
   "metadata": {},
   "source": [
    "###  模板方法模式-钩子 \n",
    "钩子是在抽象类声明的方法，它通常被赋予一个默认的实现。 \n",
    "子类的实现不是强制的时候，我们就会使用钩子 \n",
    "\n",
    "###  好莱坞原则与模板方法 \n",
    "好莱坞原则：不要给我们打电话，我们会打给你的。 \n",
    "\n"
   ]
  }
 ],
 "metadata": {
  "kernelspec": {
   "display_name": "Python 3",
   "language": "python",
   "name": "python3"
  },
  "language_info": {
   "codemirror_mode": {
    "name": "ipython",
    "version": 3
   },
   "file_extension": ".py",
   "mimetype": "text/x-python",
   "name": "python",
   "nbconvert_exporter": "python",
   "pygments_lexer": "ipython3",
   "version": "3.6.5"
  }
 },
 "nbformat": 4,
 "nbformat_minor": 2
}
